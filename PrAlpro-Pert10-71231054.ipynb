{
 "cells": [
  {
   "cell_type": "code",
   "execution_count": 9,
   "metadata": {},
   "outputs": [
    {
     "name": "stdout",
     "output_type": "stream",
     "text": [
      "3 nilai terbaik:  [50, 45, 40]\n"
     ]
    }
   ],
   "source": [
    "#lathan 9.1\n",
    "\n",
    "def cari_3_nilai_terbaik(daftar):\n",
    "    daftar.sort(reverse=True)\n",
    "    nilai_terbaik = daftar[:3]\n",
    "    return nilai_terbaik\n",
    "#misal\n",
    "daftar_nilai = [50, 45, 40, 35, 30, 25, 20]\n",
    "hasil = cari_3_nilai_terbaik(daftar_nilai)\n",
    "print(\"3 nilai terbaik: \", hasil)"
   ]
  },
  {
   "cell_type": "code",
   "execution_count": 10,
   "metadata": {},
   "outputs": [
    {
     "name": "stdout",
     "output_type": "stream",
     "text": [
      "Masukan harus angka atau 'done'\n",
      "Tidak ada masukan angka dari user\n"
     ]
    }
   ],
   "source": [
    "#latihan 9.2\n",
    "nilai_maksimum = float(\"-inf\")\n",
    "nilai_minimum = float(\"inf\")\n",
    "\n",
    "while True:\n",
    "    masukan = input(\"Masukan angka {ketik 'done' untuk selesai}: \")\n",
    "    if masukan.lower() == \"done\":\n",
    "        break\n",
    "    try:\n",
    "        angka = float(masukan)\n",
    "        nilai_maksimum = max(nilai_maksimum, angka)\n",
    "        nilai_minimum = min(nilai_minimum, angka)\n",
    "    except ValueError:\n",
    "        print(\"Masukan harus angka atau 'done'\")\n",
    "if nilai_maksimum != float(\"-inf\") and nilai_minimum != float(\"inf\"):\n",
    "    print(\"Nilai maksimum: \", nilai_maksimum)\n",
    "    print(\"Nilai minimum: \", nilai_minimum)\n",
    "\n",
    "else:\n",
    "    print(\"Tidak ada masukan angka dari user\")"
   ]
  },
  {
   "cell_type": "code",
   "execution_count": 12,
   "metadata": {},
   "outputs": [
    {
     "name": "stdout",
     "output_type": "stream",
     "text": [
      "Kata -kata unik dalam file\n",
      "['Mantan', 'calon', 'presiden', 'Ganjar', 'Pranowo', 'mengungkap', 'peluang', 'PDIP', 'bakal', 'memilih', 'untuk', 'berada', 'di', 'luar', 'pemerintahan', 'Presiden', 'dan', 'Wapres', 'RI', 'Terpilih', 'Prabowo', 'Subianto-Gibran', 'Rakabuming', 'Raka.', 'Prediksi', 'itu', 'sampaikan', 'berkaca', 'pada', 'pernyataan-pernyataan', 'Ketua', 'Umum', 'Megawati', 'Soekarnoputri.', 'Namun,', 'hingga', 'kini', 'masih', 'belum', 'memutuskan', 'mengumumkan', 'langkah', 'mereka', 'selanjutnya.', '\"Saya', 'kira', 'kalau', 'lihat', 'statement-statement-nya', 'Bu', 'Mega,', 'rasanya', 'iya.', 'Di', 'pemerintahan,', 'kan', 'kita', 'tidak', 'kenal', '(istilah)', 'oposisi,\"', 'kata', 'saat', 'ditemui', 'kediamannya,', 'Wedomartani,', 'Ngemplak,', 'Sleman,', 'DIY,', 'Kamis', '(25/4).', 'mengatakan', 'posisi', 'atau', 'oposisi', 'penting', 'bagi', 'roda', 'agar', 'mekanisme', 'saling', 'kontrol', 'antarlembaga', 'mampu', 'terwujudÂ', 'secaraÂ', 'baik.', 'pribadi', 'pun', 'merasa', 'lebih', 'cocok', 'ketika', 'dirinya', 'pemerintahan.', 'Ia', 'menegaskan', 'akan', 'menjadi', 'bagian', 'dari', 'mendatang,', 'termasuk', 'jika', 'ada', 'tawaran', 'menteri.', '\"Ah,', 'sudah', 'saya', 'jawab', 'berkali-kali.', 'Biar', 'bedakan', 'antara', 'sikap', 'politik', 'penghormatan', 'kepada', 'pemenang.', 'Saya', 'menghormati', 'pemenang,', 'tapi', 'ya', 'baik', 'kami', 'diÂ', 'luar,\"Â', 'ujarnya.', 'adalah', 'pihak', 'yang', 'kalah', 'dalam', 'Pilpres', '2024.', 'dimenangkan', 'Raka', 'diusung', 'Koalisi', 'Indonesia', 'Maju', '(KIM).', 'Beberapa', 'waktu', 'lalu,', 'DPP', 'Bidang', 'Hubungan', 'Luar', 'Negeri,', 'Ahmad', 'Basarah', 'menyebut', 'partainya', 'usai', 'penetapan', 'Prabowo-Gibran', 'jadi', 'wakil', 'dibahas', 'Rapat', 'Kerja', 'Nasional', '(Rakernas)', 'V', 'Mei', 'mendatang.', 'Menurut', 'dia,', 'keputusan', 'tersebut', 'hak', 'prerogatif', 'Soekarnoputri', 'selaku', 'PDIP.', '\"Di', 'sanalah', '[Rakernas]', 'menentukan', 'politiknya,', 'pemerintah,\"', 'kantor', 'pusat', 'partai,', 'Menteng,', 'Jakarta', 'Pusat,', 'Senin', '(22/4)', 'malam.', '\"Jadi', 'apapun', 'Ibu', 'kelak,', 'maka', 'seluruh', 'kader', 'siap', 'maupun', 'pemerintahan,\"Â', 'kataÂ', 'dia']\n"
     ]
    }
   ],
   "source": [
    "#latihan 9.3\n",
    "with open('file.txt', 'r') as file:\n",
    "    kata = []\n",
    "    for baris in file:\n",
    "        kata_kalimat = baris.split()\n",
    "        for kata_baris in kata_kalimat:\n",
    "            if kata_baris not in kata:\n",
    "                kata.append(kata_baris)\n",
    "print(\"Kata -kata unik dalam file\")\n",
    "print(kata)"
   ]
  }
 ],
 "metadata": {
  "kernelspec": {
   "display_name": "Python 3",
   "language": "python",
   "name": "python3"
  },
  "language_info": {
   "codemirror_mode": {
    "name": "ipython",
    "version": 3
   },
   "file_extension": ".py",
   "mimetype": "text/x-python",
   "name": "python",
   "nbconvert_exporter": "python",
   "pygments_lexer": "ipython3",
   "version": "3.12.0"
  }
 },
 "nbformat": 4,
 "nbformat_minor": 2
}
